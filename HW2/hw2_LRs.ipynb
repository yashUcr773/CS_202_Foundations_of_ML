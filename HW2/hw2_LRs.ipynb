{
  "cells": [
    {
      "cell_type": "markdown",
      "metadata": {
        "id": "UKc8K9_57UEz"
      },
      "source": [
        "# CS224 - Winter 2023 - PROGRAMMING ASSIGNMENT 2 - LINEAR AND LOGISTIC REGRESSION\n",
        "\n",
        "**Due**: March 3, 2023 @ 11:59pm PDT\n",
        "\n",
        "**Maximum points**: 20"
      ]
    },
    {
      "cell_type": "markdown",
      "metadata": {
        "id": "JL5tIX4c9z6s"
      },
      "source": [
        "<div style=\"margin-bottom: 15px; padding: 15px; color: #31708f; background-color: #d9edf7; border: 1px solid #bce8f1; border-radius: 5px;\">\n",
        "    \n",
        "<b><font size=+2>Enter your information below:</font></b></br></br>\n",
        "\n",
        "  <b>(full) Name</b>: Yash Aggarwal\n",
        "  </br>\n",
        "  <b>Student ID Number</b>:  862333037\n",
        "  </br></br>\n",
        "    \n",
        "<b>By submitting this notebook, I assert that the work below is my own work, completed for this course.  Except where explicitly cited, none of the portions of this notebook are duplicated from anyone else's work or my own previous work.</b>\n",
        "</div>"
      ]
    },
    {
      "cell_type": "markdown",
      "metadata": {
        "id": "coxduSVB9gut"
      },
      "source": [
        "<div style=\"padding: 15px; color: #8a6d3b; background-color: #fcf8e3; border: 1px solid #faebcc; border-radius: 5px;\">\n",
        "<b><font size=+2>Academic Integrity</font></b></br> \n",
        "Each assignment should be done  individually. You may discuss general approaches with other students in the class, and ask questions to the TA, but  you must only submit work that is yours . If you receive help by any external sources (other than the TA and the instructor), you must properly credit those sources. The UCR Academic Integrity policies are available at <a href=\"http://conduct.ucr.edu/policies/academicintegrity.html\" target=\"_blank\">http://conduct.ucr.edu/policies/academicintegrity.html</a>.\n",
        "</div>"
      ]
    },
    {
      "cell_type": "markdown",
      "metadata": {
        "id": "hsywQWEI8pzj"
      },
      "source": [
        "# Overview \n",
        "In this assignment you will implement and test two supervised learning algorithms: linear regression (Question 1) and logistic regression (Question 2). \n",
        "\n",
        "For this assignment we will use the functionality of [Pandas](https://pandas.pydata.org/), [Matplotlib](https://matplotlib.org/), and [Numpy](http://www.numpy.org/).\n",
        "\n",
        "If you are asked to **implement** a particular functionality, you should **not** use an existing implementation from the libraries above (or some other library that you may find). When in doubt, please ask. \n",
        "\n",
        "Before you start, make sure you have installed all those packages in your local Jupyter instance.\n",
        "\n",
        "\n",
        "Read **all** cells carefully and answer **all** parts (both text and missing code). You will complete all the code marked `TODO` and answer descriptive/derivation questions."
      ]
    },
    {
      "cell_type": "code",
      "execution_count": null,
      "metadata": {
        "id": "NM7-Cx4H-jTt"
      },
      "outputs": [],
      "source": [
        "import numpy as np\n",
        "import pandas as pd\n",
        "import matplotlib.pyplot as plt\n",
        "# import random as rand\n",
        "from sklearn.model_selection import train_test_split \n",
        "from sklearn import linear_model"
      ]
    },
    {
      "cell_type": "markdown",
      "metadata": {
        "id": "WHgsgFGF-kNA"
      },
      "source": [
        "# **Question 1: Linear Regression [12 points]**\n",
        "We will implement linear regression using direct solution and gradient descent. \n",
        "\n",
        "We will first attempt to predict output using a single attribute/feature. Then we will perform linear regression using multiple attributes/features. "
      ]
    },
    {
      "cell_type": "markdown",
      "metadata": {
        "id": "VR37r18FtEPo"
      },
      "source": [
        "### **Getting data [1 point]**\n",
        "In this assignment we will use the Boston housing dataset. \n",
        "\n",
        "The Boston housing data set was collected in the 1970s to study the relationship between house price and various factors such as the house size, crime rate, socio-economic status, etc.  Since the variables are easy to understand, the data set is ideal for learning basic concepts in machine learning.  The raw data and a complete description of the dataset can be found on the UCI website:\n",
        "https://archive.ics.uci.edu/ml/machine-learning-databases/housing/housing.names, \n",
        "https://archive.ics.uci.edu/ml/machine-learning-databases/housing/housing.data\n",
        "\n",
        "or \n",
        "\n",
        "http://www.ccs.neu.edu/home/vip/teach/MLcourse/data/housing_desc.txt\n",
        "\n",
        "I have supplied a list `names` of the column headers.  You will have to set the options in the `read_csv` command to correctly delimit the data in the file and name the columns correctly."
      ]
    },
    {
      "cell_type": "code",
      "execution_count": null,
      "metadata": {
        "id": "PTv71Plf-vZJ"
      },
      "outputs": [],
      "source": [
        "names =[\n",
        "    'CRIM', 'ZN', 'INDUS', 'CHAS', 'NOX', 'RM', \n",
        "    'AGE',  'DIS', 'RAD', 'TAX', 'PTRATIO', 'B', 'LSTAT', 'PRICE'\n",
        "]\n",
        "\n",
        "df = pd.read_csv('https://archive.ics.uci.edu/ml/machine-learning-databases/housing/housing.data',\n",
        "                 header=None,delim_whitespace=True,names=names,na_values='?')"
      ]
    },
    {
      "cell_type": "markdown",
      "metadata": {
        "id": "ywadWSHsYEZd"
      },
      "source": [
        "Create a response vector `y` with the values in the column `PRICE`.  The vector `y` should be a 1D `numpy.array` structure."
      ]
    },
    {
      "cell_type": "code",
      "execution_count": null,
      "metadata": {
        "id": "p2-zIA5vYOHA",
        "colab": {
          "base_uri": "https://localhost:8080/"
        },
        "outputId": "ec29ecb0-3bd7-4c20-a27b-e89aeb08754b"
      },
      "outputs": [
        {
          "output_type": "stream",
          "name": "stdout",
          "text": [
            "<class 'numpy.ndarray'> (506,)\n"
          ]
        },
        {
          "output_type": "execute_result",
          "data": {
            "text/plain": [
              "array([24. , 21.6, 34.7, 33.4, 36.2, 28.7, 22.9, 27.1, 16.5, 18.9, 15. ,\n",
              "       18.9, 21.7, 20.4, 18.2, 19.9, 23.1, 17.5, 20.2, 18.2, 13.6, 19.6,\n",
              "       15.2, 14.5, 15.6, 13.9, 16.6, 14.8, 18.4, 21. , 12.7, 14.5, 13.2,\n",
              "       13.1, 13.5, 18.9, 20. , 21. , 24.7, 30.8, 34.9, 26.6, 25.3, 24.7,\n",
              "       21.2, 19.3, 20. , 16.6, 14.4, 19.4, 19.7, 20.5, 25. , 23.4, 18.9,\n",
              "       35.4, 24.7, 31.6, 23.3, 19.6, 18.7, 16. , 22.2, 25. , 33. , 23.5,\n",
              "       19.4, 22. , 17.4, 20.9, 24.2, 21.7, 22.8, 23.4, 24.1, 21.4, 20. ,\n",
              "       20.8, 21.2, 20.3, 28. , 23.9, 24.8, 22.9, 23.9, 26.6, 22.5, 22.2,\n",
              "       23.6, 28.7, 22.6, 22. , 22.9, 25. , 20.6, 28.4, 21.4, 38.7, 43.8,\n",
              "       33.2, 27.5, 26.5, 18.6, 19.3, 20.1, 19.5, 19.5, 20.4, 19.8, 19.4,\n",
              "       21.7, 22.8, 18.8, 18.7, 18.5, 18.3, 21.2, 19.2, 20.4, 19.3, 22. ,\n",
              "       20.3, 20.5, 17.3, 18.8, 21.4, 15.7, 16.2, 18. , 14.3, 19.2, 19.6,\n",
              "       23. , 18.4, 15.6, 18.1, 17.4, 17.1, 13.3, 17.8, 14. , 14.4, 13.4,\n",
              "       15.6, 11.8, 13.8, 15.6, 14.6, 17.8, 15.4, 21.5, 19.6, 15.3, 19.4,\n",
              "       17. , 15.6, 13.1, 41.3, 24.3, 23.3, 27. , 50. , 50. , 50. , 22.7,\n",
              "       25. , 50. , 23.8, 23.8, 22.3, 17.4, 19.1, 23.1, 23.6, 22.6, 29.4,\n",
              "       23.2, 24.6, 29.9, 37.2, 39.8, 36.2, 37.9, 32.5, 26.4, 29.6, 50. ,\n",
              "       32. , 29.8, 34.9, 37. , 30.5, 36.4, 31.1, 29.1, 50. , 33.3, 30.3,\n",
              "       34.6, 34.9, 32.9, 24.1, 42.3, 48.5, 50. , 22.6, 24.4, 22.5, 24.4,\n",
              "       20. , 21.7, 19.3, 22.4, 28.1, 23.7, 25. , 23.3, 28.7, 21.5, 23. ,\n",
              "       26.7, 21.7, 27.5, 30.1, 44.8, 50. , 37.6, 31.6, 46.7, 31.5, 24.3,\n",
              "       31.7, 41.7, 48.3, 29. , 24. , 25.1, 31.5, 23.7, 23.3, 22. , 20.1,\n",
              "       22.2, 23.7, 17.6, 18.5, 24.3, 20.5, 24.5, 26.2, 24.4, 24.8, 29.6,\n",
              "       42.8, 21.9, 20.9, 44. , 50. , 36. , 30.1, 33.8, 43.1, 48.8, 31. ,\n",
              "       36.5, 22.8, 30.7, 50. , 43.5, 20.7, 21.1, 25.2, 24.4, 35.2, 32.4,\n",
              "       32. , 33.2, 33.1, 29.1, 35.1, 45.4, 35.4, 46. , 50. , 32.2, 22. ,\n",
              "       20.1, 23.2, 22.3, 24.8, 28.5, 37.3, 27.9, 23.9, 21.7, 28.6, 27.1,\n",
              "       20.3, 22.5, 29. , 24.8, 22. , 26.4, 33.1, 36.1, 28.4, 33.4, 28.2,\n",
              "       22.8, 20.3, 16.1, 22.1, 19.4, 21.6, 23.8, 16.2, 17.8, 19.8, 23.1,\n",
              "       21. , 23.8, 23.1, 20.4, 18.5, 25. , 24.6, 23. , 22.2, 19.3, 22.6,\n",
              "       19.8, 17.1, 19.4, 22.2, 20.7, 21.1, 19.5, 18.5, 20.6, 19. , 18.7,\n",
              "       32.7, 16.5, 23.9, 31.2, 17.5, 17.2, 23.1, 24.5, 26.6, 22.9, 24.1,\n",
              "       18.6, 30.1, 18.2, 20.6, 17.8, 21.7, 22.7, 22.6, 25. , 19.9, 20.8,\n",
              "       16.8, 21.9, 27.5, 21.9, 23.1, 50. , 50. , 50. , 50. , 50. , 13.8,\n",
              "       13.8, 15. , 13.9, 13.3, 13.1, 10.2, 10.4, 10.9, 11.3, 12.3,  8.8,\n",
              "        7.2, 10.5,  7.4, 10.2, 11.5, 15.1, 23.2,  9.7, 13.8, 12.7, 13.1,\n",
              "       12.5,  8.5,  5. ,  6.3,  5.6,  7.2, 12.1,  8.3,  8.5,  5. , 11.9,\n",
              "       27.9, 17.2, 27.5, 15. , 17.2, 17.9, 16.3,  7. ,  7.2,  7.5, 10.4,\n",
              "        8.8,  8.4, 16.7, 14.2, 20.8, 13.4, 11.7,  8.3, 10.2, 10.9, 11. ,\n",
              "        9.5, 14.5, 14.1, 16.1, 14.3, 11.7, 13.4,  9.6,  8.7,  8.4, 12.8,\n",
              "       10.5, 17.1, 18.4, 15.4, 10.8, 11.8, 14.9, 12.6, 14.1, 13. , 13.4,\n",
              "       15.2, 16.1, 17.8, 14.9, 14.1, 12.7, 13.5, 14.9, 20. , 16.4, 17.7,\n",
              "       19.5, 20.2, 21.4, 19.9, 19. , 19.1, 19.1, 20.1, 19.9, 19.6, 23.2,\n",
              "       29.8, 13.8, 13.3, 16.7, 12. , 14.6, 21.4, 23. , 23.7, 25. , 21.8,\n",
              "       20.6, 21.2, 19.1, 20.6, 15.2,  7. ,  8.1, 13.6, 20.1, 21.8, 24.5,\n",
              "       23.1, 19.7, 18.3, 21.2, 17.5, 16.8, 22.4, 20.6, 23.9, 22. , 11.9])"
            ]
          },
          "metadata": {},
          "execution_count": 3
        }
      ],
      "source": [
        "# TODO\n",
        "y = np.array(df['PRICE'])\n",
        "print (type(y), y.shape)\n",
        "y"
      ]
    },
    {
      "cell_type": "markdown",
      "metadata": {
        "id": "l9UHZEggYKd0"
      },
      "source": [
        "Use the response vector `y` to find the mean house price in thousands and the fraction of homes that are above $40k. (You may realize this is very cheap.  Prices have gone up a lot since the 1970s!).   Create print statements of the form (replace `a`'s and `b`'s with the number you get):\n",
        "\n",
        "    The mean house price is aa.bb thousands of dollars.\n",
        "    Only a.b percent are above $40k."
      ]
    },
    {
      "cell_type": "code",
      "execution_count": null,
      "metadata": {
        "id": "265qk4h2YUrc",
        "colab": {
          "base_uri": "https://localhost:8080/"
        },
        "outputId": "e9455b30-da77-436d-87e1-84dddcd34069"
      },
      "outputs": [
        {
          "output_type": "stream",
          "name": "stdout",
          "text": [
            "The mean house price is 22.53 thousands of dollars.\n",
            "Only 6.1 percent are above $40k.\n"
          ]
        }
      ],
      "source": [
        "# TODO \n",
        "mean = np.sum(y)/len(y)\n",
        "print ('The mean house price is {00:.2f} thousands of dollars.'.format(mean))\n",
        "\n",
        "greater = [x for x in y if x > 40]\n",
        "percent = len(greater)*100/len(y)\n",
        "print ('Only {0:.1f} percent are above $40k.'.format(percent))"
      ]
    },
    {
      "cell_type": "markdown",
      "metadata": {
        "id": "_zeK-Qoc0TXu"
      },
      "source": [
        "### **Visualizing the Data [1 point]**\n",
        "\n",
        "Python's `matplotlib` has very good routines for plotting and visualizing data that closely follows the format of MATLAB programs.  You can load the `matplotlib` package with the following commands."
      ]
    },
    {
      "cell_type": "code",
      "execution_count": null,
      "metadata": {
        "collapsed": true,
        "id": "O5Hn63Id0TXu"
      },
      "outputs": [],
      "source": [
        "import matplotlib\n",
        "import matplotlib.pyplot as plt\n",
        "%matplotlib inline"
      ]
    },
    {
      "cell_type": "markdown",
      "metadata": {
        "id": "A8BLgPQQ0TXv"
      },
      "source": [
        "Similar to the `y` vector, create a predictor vector `x` containing the values in the `RM` column, which represents the average number of rooms in each region."
      ]
    },
    {
      "cell_type": "code",
      "execution_count": null,
      "metadata": {
        "collapsed": true,
        "id": "wvkiFOUP0TXv",
        "colab": {
          "base_uri": "https://localhost:8080/"
        },
        "outputId": "95868523-c973-4970-cec2-cb9d66be7329"
      },
      "outputs": [
        {
          "output_type": "stream",
          "name": "stdout",
          "text": [
            "<class 'numpy.ndarray'> (506,)\n"
          ]
        },
        {
          "output_type": "execute_result",
          "data": {
            "text/plain": [
              "array([6.575, 6.421, 7.185, 6.998, 7.147, 6.43 , 6.012, 6.172, 5.631,\n",
              "       6.004, 6.377, 6.009, 5.889, 5.949, 6.096, 5.834, 5.935, 5.99 ,\n",
              "       5.456, 5.727, 5.57 , 5.965, 6.142, 5.813, 5.924, 5.599, 5.813,\n",
              "       6.047, 6.495, 6.674, 5.713, 6.072, 5.95 , 5.701, 6.096, 5.933,\n",
              "       5.841, 5.85 , 5.966, 6.595, 7.024, 6.77 , 6.169, 6.211, 6.069,\n",
              "       5.682, 5.786, 6.03 , 5.399, 5.602, 5.963, 6.115, 6.511, 5.998,\n",
              "       5.888, 7.249, 6.383, 6.816, 6.145, 5.927, 5.741, 5.966, 6.456,\n",
              "       6.762, 7.104, 6.29 , 5.787, 5.878, 5.594, 5.885, 6.417, 5.961,\n",
              "       6.065, 6.245, 6.273, 6.286, 6.279, 6.14 , 6.232, 5.874, 6.727,\n",
              "       6.619, 6.302, 6.167, 6.389, 6.63 , 6.015, 6.121, 7.007, 7.079,\n",
              "       6.417, 6.405, 6.442, 6.211, 6.249, 6.625, 6.163, 8.069, 7.82 ,\n",
              "       7.416, 6.727, 6.781, 6.405, 6.137, 6.167, 5.851, 5.836, 6.127,\n",
              "       6.474, 6.229, 6.195, 6.715, 5.913, 6.092, 6.254, 5.928, 6.176,\n",
              "       6.021, 5.872, 5.731, 5.87 , 6.004, 5.961, 5.856, 5.879, 5.986,\n",
              "       5.613, 5.693, 6.431, 5.637, 6.458, 6.326, 6.372, 5.822, 5.757,\n",
              "       6.335, 5.942, 6.454, 5.857, 6.151, 6.174, 5.019, 5.403, 5.468,\n",
              "       4.903, 6.13 , 5.628, 4.926, 5.186, 5.597, 6.122, 5.404, 5.012,\n",
              "       5.709, 6.129, 6.152, 5.272, 6.943, 6.066, 6.51 , 6.25 , 7.489,\n",
              "       7.802, 8.375, 5.854, 6.101, 7.929, 5.877, 6.319, 6.402, 5.875,\n",
              "       5.88 , 5.572, 6.416, 5.859, 6.546, 6.02 , 6.315, 6.86 , 6.98 ,\n",
              "       7.765, 6.144, 7.155, 6.563, 5.604, 6.153, 7.831, 6.782, 6.556,\n",
              "       7.185, 6.951, 6.739, 7.178, 6.8  , 6.604, 7.875, 7.287, 7.107,\n",
              "       7.274, 6.975, 7.135, 6.162, 7.61 , 7.853, 8.034, 5.891, 6.326,\n",
              "       5.783, 6.064, 5.344, 5.96 , 5.404, 5.807, 6.375, 5.412, 6.182,\n",
              "       5.888, 6.642, 5.951, 6.373, 6.951, 6.164, 6.879, 6.618, 8.266,\n",
              "       8.725, 8.04 , 7.163, 7.686, 6.552, 5.981, 7.412, 8.337, 8.247,\n",
              "       6.726, 6.086, 6.631, 7.358, 6.481, 6.606, 6.897, 6.095, 6.358,\n",
              "       6.393, 5.593, 5.605, 6.108, 6.226, 6.433, 6.718, 6.487, 6.438,\n",
              "       6.957, 8.259, 6.108, 5.876, 7.454, 8.704, 7.333, 6.842, 7.203,\n",
              "       7.52 , 8.398, 7.327, 7.206, 5.56 , 7.014, 8.297, 7.47 , 5.92 ,\n",
              "       5.856, 6.24 , 6.538, 7.691, 6.758, 6.854, 7.267, 6.826, 6.482,\n",
              "       6.812, 7.82 , 6.968, 7.645, 7.923, 7.088, 6.453, 6.23 , 6.209,\n",
              "       6.315, 6.565, 6.861, 7.148, 6.63 , 6.127, 6.009, 6.678, 6.549,\n",
              "       5.79 , 6.345, 7.041, 6.871, 6.59 , 6.495, 6.982, 7.236, 6.616,\n",
              "       7.42 , 6.849, 6.635, 5.972, 4.973, 6.122, 6.023, 6.266, 6.567,\n",
              "       5.705, 5.914, 5.782, 6.382, 6.113, 6.426, 6.376, 6.041, 5.708,\n",
              "       6.415, 6.431, 6.312, 6.083, 5.868, 6.333, 6.144, 5.706, 6.031,\n",
              "       6.316, 6.31 , 6.037, 5.869, 5.895, 6.059, 5.985, 5.968, 7.241,\n",
              "       6.54 , 6.696, 6.874, 6.014, 5.898, 6.516, 6.635, 6.939, 6.49 ,\n",
              "       6.579, 5.884, 6.728, 5.663, 5.936, 6.212, 6.395, 6.127, 6.112,\n",
              "       6.398, 6.251, 5.362, 5.803, 8.78 , 3.561, 4.963, 3.863, 4.97 ,\n",
              "       6.683, 7.016, 6.216, 5.875, 4.906, 4.138, 7.313, 6.649, 6.794,\n",
              "       6.38 , 6.223, 6.968, 6.545, 5.536, 5.52 , 4.368, 5.277, 4.652,\n",
              "       5.   , 4.88 , 5.39 , 5.713, 6.051, 5.036, 6.193, 5.887, 6.471,\n",
              "       6.405, 5.747, 5.453, 5.852, 5.987, 6.343, 6.404, 5.349, 5.531,\n",
              "       5.683, 4.138, 5.608, 5.617, 6.852, 5.757, 6.657, 4.628, 5.155,\n",
              "       4.519, 6.434, 6.782, 5.304, 5.957, 6.824, 6.411, 6.006, 5.648,\n",
              "       6.103, 5.565, 5.896, 5.837, 6.202, 6.193, 6.38 , 6.348, 6.833,\n",
              "       6.425, 6.436, 6.208, 6.629, 6.461, 6.152, 5.935, 5.627, 5.818,\n",
              "       6.406, 6.219, 6.485, 5.854, 6.459, 6.341, 6.251, 6.185, 6.417,\n",
              "       6.749, 6.655, 6.297, 7.393, 6.728, 6.525, 5.976, 5.936, 6.301,\n",
              "       6.081, 6.701, 6.376, 6.317, 6.513, 6.209, 5.759, 5.952, 6.003,\n",
              "       5.926, 5.713, 6.167, 6.229, 6.437, 6.98 , 5.427, 6.162, 6.484,\n",
              "       5.304, 6.185, 6.229, 6.242, 6.75 , 7.061, 5.762, 5.871, 6.312,\n",
              "       6.114, 5.905, 5.454, 5.414, 5.093, 5.983, 5.983, 5.707, 5.926,\n",
              "       5.67 , 5.39 , 5.794, 6.019, 5.569, 6.027, 6.593, 6.12 , 6.976,\n",
              "       6.794, 6.03 ])"
            ]
          },
          "metadata": {},
          "execution_count": 6
        }
      ],
      "source": [
        "# TODO\n",
        "x = np.array(df['RM'])\n",
        "print (type(x), x.shape)\n",
        "x"
      ]
    },
    {
      "cell_type": "markdown",
      "metadata": {
        "id": "nZfFM3_z0TXv"
      },
      "source": [
        "Create a scatter plot of the `PRICE` vs. the `RM` attribute.  Make sure your plot has **grid lines** and label the axes with reasonable **labels** so that someone else can understand the plot."
      ]
    },
    {
      "cell_type": "code",
      "execution_count": null,
      "metadata": {
        "collapsed": true,
        "id": "DXkjMSpY0TXv",
        "colab": {
          "base_uri": "https://localhost:8080/",
          "height": 638
        },
        "outputId": "a7a639b9-fb4d-4f7b-ca1d-e6b208f08f7a"
      },
      "outputs": [
        {
          "output_type": "execute_result",
          "data": {
            "text/plain": [
              "[]"
            ]
          },
          "metadata": {},
          "execution_count": 7
        },
        {
          "output_type": "display_data",
          "data": {
            "text/plain": [
              "<Figure size 720x720 with 1 Axes>"
            ],
            "image/png": "[encoded data removed]"
          },
          "metadata": {
            "needs_background": "light"
          }
        }
      ],
      "source": [
        "# TODO\n",
        "plt.figure(1,figsize=(10,10))\n",
        "plt.ylabel('Price (in thousand dollars)')\n",
        "plt.xlabel('Number of rooms')\n",
        "plt.title('Price for average number of rooms')\n",
        "plt.scatter(x,y,s=20)\n",
        "plt.grid()\n",
        "plt.plot()"
      ]
    },
    {
      "cell_type": "markdown",
      "metadata": {
        "id": "JJ6l2LRjvrEV"
      },
      "source": [
        "The number of rooms and price seem to have a linear trend, so let us try to predict price using number of rooms first. "
      ]
    },
    {
      "cell_type": "markdown",
      "metadata": {
        "id": "G-5e_O4x0TXv"
      },
      "source": [
        "### Derivation of a simple linear model for a single feature\n",
        "Suppose we have $N$ pairs of training samples $(x_1,y_1),\\ldots, (x_N,y_N)$, where $x_i \\in \\mathbb{R}$ and $y_i \\in \\mathbb{R}$. \n",
        "\n",
        "We want to perform a linear fit for this 1D data as \n",
        "$$y = wx+b,$$\n",
        "where $w\\in \\mathbb{R}$ and $b\\in \\mathbb{R}$. \n",
        "\n",
        "The optimal values of $w^*,b^*$ that minimize the loss function \n",
        "$$L(w,b) = \\sum_{i=1}^N(wx_i + b -y_i)^2$$ \n",
        "can be written as \n",
        "$$w^* = \\dfrac{\\sum_i (x_i-\\bar{x})(y_i-\\bar{y})}{\\sum_i (x_i - \\bar{x})^2}$$\n",
        "and $$b^* = \\bar{y} - w^*\\bar{x},$$\n",
        "where $\\bar{x} = \\frac{1}{N}\\sum_i x_i, \\bar{y} = \\frac{1}{N}\\sum_i y_i$ are mean values of $x_i,y_i$, respectively. \n",
        "\n"
      ]
    },
    {
      "cell_type": "markdown",
      "metadata": {
        "id": "v6wR2wx9nHRG"
      },
      "source": [
        "### **Fitting a linear model using a single feature [3 points]**\n",
        "\n",
        "Use the formulae above to compute the parameters $w,b$ in the linear model $y = wx + b$."
      ]
    },
    {
      "cell_type": "code",
      "execution_count": null,
      "metadata": {
        "collapsed": true,
        "id": "HA-PyCGR0TXv"
      },
      "outputs": [],
      "source": [
        "def fit_linear(x,y):\n",
        "    \"\"\"\n",
        "    Given vectors of data points (x,y), performs a fit for the linear model:\n",
        "       yhat = w*x + b, \n",
        "    The function returns w and b\n",
        "    \"\"\"\n",
        "    # TODO complete the code below\n",
        "    \n",
        "    x_mean = np.sum(x)/len(x)\n",
        "    y_mean = np.sum(y)/len(y)\n",
        "\n",
        "    w = np.sum((x - x_mean)*(y - y_mean)) / np.sum((x - x_mean)**2) \n",
        "    b = y_mean - w*x_mean\n",
        "\n",
        "    return w, b"
      ]
    },
    {
      "cell_type": "markdown",
      "metadata": {
        "id": "GzO9Ehhg0TXw"
      },
      "source": [
        "Using the function `fit_linear` above, print the values `w`, `b` for the linear model of price vs. number of rooms."
      ]
    },
    {
      "cell_type": "code",
      "execution_count": null,
      "metadata": {
        "id": "LxoaYYOz0TXw",
        "colab": {
          "base_uri": "https://localhost:8080/"
        },
        "outputId": "ffe0ec10-bdab-4b9d-a3bb-03995a55a24d"
      },
      "outputs": [
        {
          "output_type": "stream",
          "name": "stdout",
          "text": [
            "w =   9.1, b = -34.7\n"
          ]
        }
      ],
      "source": [
        "# TODO\n",
        "w, b = fit_linear(x,y)\n",
        "print('w = {0:5.1f}, b = {1:5.1f}'.format(w,b))"
      ]
    },
    {
      "cell_type": "markdown",
      "metadata": {
        "id": "bAj_BRcerz97"
      },
      "source": [
        "Does the price increase or decrease with the number of rooms? \n",
        "\n",
        "* The Price tends to increase with an increase in number of rooms"
      ]
    },
    {
      "cell_type": "markdown",
      "metadata": {
        "id": "F71MzBOx0TXw"
      },
      "source": [
        "Replot the scatter plot above, but now with the regression line.  You can create the regression line by creating points `xp` from say min(x) to max(x), computing the linear predicted values `yp` on those points and plotting `yp` vs. `xp` on top of the above plot."
      ]
    },
    {
      "cell_type": "code",
      "execution_count": null,
      "metadata": {
        "collapsed": true,
        "id": "rf9qJ_qY0TXw",
        "colab": {
          "base_uri": "https://localhost:8080/",
          "height": 638
        },
        "outputId": "703c81e3-ccac-4c67-924e-dd0072db4227"
      },
      "outputs": [
        {
          "output_type": "execute_result",
          "data": {
            "text/plain": [
              "[<matplotlib.lines.Line2D at 0x7f40c19da7f0>]"
            ]
          },
          "metadata": {},
          "execution_count": 10
        },
        {
          "output_type": "display_data",
          "data": {
            "text/plain": [
              "<Figure size 720x720 with 1 Axes>"
            ],
            "image/png": "[encoded data removed]"
          },
          "metadata": {
            "needs_background": "light"
          }
        }
      ],
      "source": [
        "# TODO\n",
        "# Points on the regression line\n",
        "xp = np.linspace(min(x), max(x)+1,20)\n",
        "yp = w*xp + b\n",
        "\n",
        "plt.figure(1,figsize=(10,10))\n",
        "plt.ylabel('Price (in thousand dollars)')\n",
        "plt.xlabel('Number of rooms')\n",
        "plt.title('Price for average number of rooms')\n",
        "plt.scatter(x,y,s=20)\n",
        "plt.grid()\n",
        "plt.plot(xp,yp,'black')"
      ]
    },
    {
      "cell_type": "markdown",
      "metadata": {
        "id": "v_23tqcUdIfx"
      },
      "source": [
        "### **Linear regression with multiple features/attributes [3 points]**\n",
        "One possible way to try to improve the fit is to use multiple variables at the same time."
      ]
    },
    {
      "cell_type": "markdown",
      "metadata": {
        "id": "bpsZK-mYWyFS"
      },
      "source": [
        "In this problem, the target variable will still be the `PRICE`.  We will use multiple attributes of the house to predict the price.  \n",
        "\n",
        "The names of all the data attributes are given in variable `names`. \n",
        "* We can get the list of names of the columns from `df.columns.tolist()`.  \n",
        "* Remove the last items from the list using indexing."
      ]
    },
    {
      "cell_type": "code",
      "execution_count": null,
      "metadata": {
        "id": "FYwmOGtxwuLA",
        "colab": {
          "base_uri": "https://localhost:8080/"
        },
        "outputId": "f35cd8bc-1516-41d0-b141-a36a15123c41"
      },
      "outputs": [
        {
          "output_type": "stream",
          "name": "stdout",
          "text": [
            "['CRIM', 'ZN', 'INDUS', 'CHAS', 'NOX', 'RM', 'AGE', 'DIS', 'RAD', 'TAX', 'PTRATIO', 'B', 'LSTAT']\n"
          ]
        }
      ],
      "source": [
        "xnames = names[:-1]\n",
        "print(names[:-1])"
      ]
    },
    {
      "cell_type": "markdown",
      "metadata": {
        "id": "mLDuJkzNxUQu"
      },
      "source": [
        "Let us use `CRIM`, `RM`, and `LSTAT` to predict `PRICE`. \n",
        "\n",
        "Get the data matrix `X` with three features (`CRIM`, `RM`, `LSTAT`) and target vector `y` from the dataframe `df`.  \n",
        "\n",
        "Recall that to get the items from a dataframe, you can use syntax such as\n",
        "\n",
        "    s = np.array(df['RM'])  \n",
        "        \n",
        "which gets the data in the column `RM` and puts it into an array `s`.  You can also get multiple columns with syntax like\n",
        "\n",
        "    X12 = np.array(df[['CRIM', 'ZN']])  \n"
      ]
    },
    {
      "cell_type": "code",
      "execution_count": null,
      "metadata": {
        "id": "Zp9Gk4O8FSty",
        "colab": {
          "base_uri": "https://localhost:8080/"
        },
        "outputId": "b1671bca-6a60-4307-e375-672656a2eef6"
      },
      "outputs": [
        {
          "output_type": "stream",
          "name": "stdout",
          "text": [
            "(506, 3)\n"
          ]
        },
        {
          "output_type": "execute_result",
          "data": {
            "text/plain": [
              "array([[6.3200e-03, 6.5750e+00, 4.9800e+00],\n",
              "       [2.7310e-02, 6.4210e+00, 9.1400e+00],\n",
              "       [2.7290e-02, 7.1850e+00, 4.0300e+00],\n",
              "       [3.2370e-02, 6.9980e+00, 2.9400e+00],\n",
              "       [6.9050e-02, 7.1470e+00, 5.3300e+00],\n",
              "       [2.9850e-02, 6.4300e+00, 5.2100e+00],\n",
              "       [8.8290e-02, 6.0120e+00, 1.2430e+01],\n",
              "       [1.4455e-01, 6.1720e+00, 1.9150e+01],\n",
              "       [2.1124e-01, 5.6310e+00, 2.9930e+01],\n",
              "       [1.7004e-01, 6.0040e+00, 1.7100e+01]])"
            ]
          },
          "metadata": {},
          "execution_count": 12
        }
      ],
      "source": [
        "# TODO\n",
        "# X = ...\n",
        "X = np.array(df[['CRIM', 'RM', 'LSTAT']])\n",
        "print (X.shape)\n",
        "X[:10] "
      ]
    },
    {
      "cell_type": "markdown",
      "metadata": {
        "id": "jfHwrw4mzuS6"
      },
      "source": [
        "**Linear regression in scikit-learn**\n",
        "\n",
        "To fit the linear model, we could create a regression object and then fit the training data with regression object.\n",
        "\n",
        "```python\n",
        "from sklearn import linear_model\n",
        "regr = linear_model.LinearRegression()\n",
        "regr.fit(X_train,y_train)\n",
        "```\n",
        "\n",
        "You can see the coefficients as\n",
        "```python\n",
        "regr.intercept_\n",
        "regr.coef_\n",
        "```\n",
        "\n",
        "We can predict output for any data as \n",
        "```python\n",
        "y_pred = regr.predict(X)\n",
        "```\n",
        "**Instead of taking this approach, we will implement the regression function directly.**"
      ]
    },
    {
      "cell_type": "markdown",
      "metadata": {
        "id": "0Pche190FSty"
      },
      "source": [
        "**Split the Data into Training and Test**\n",
        "\n",
        "Split the data into training and test.  Use 30% for test and 70% for training.  You can do the splitting manually or use the `sklearn` package `train_test_split`.   Store the training data in `Xtr,ytr` and test data in `Xts,yts`.\n"
      ]
    },
    {
      "cell_type": "code",
      "execution_count": null,
      "metadata": {
        "id": "8t88nZxdFSty",
        "colab": {
          "base_uri": "https://localhost:8080/"
        },
        "outputId": "a0a55806-b085-4faa-a3a8-463514fd3d7c"
      },
      "outputs": [
        {
          "output_type": "stream",
          "name": "stdout",
          "text": [
            "(354, 3) (152, 3)\n",
            "(354,) (152,)\n"
          ]
        }
      ],
      "source": [
        "# TODO\n",
        "Xtr, Xts, ytr, yts = train_test_split(X,y, test_size=0.3)\n",
        "\n",
        "print(Xtr.shape, Xts.shape)\n",
        "print(ytr.shape, yts.shape)"
      ]
    },
    {
      "cell_type": "markdown",
      "metadata": {
        "id": "QCWqasJL9I6h"
      },
      "source": [
        "Compute the predicted values `yhat_tr` on the training data and print the average square loss value on the **training** data."
      ]
    },
    {
      "cell_type": "code",
      "execution_count": null,
      "metadata": {
        "id": "MXtUFymP9M0P",
        "colab": {
          "base_uri": "https://localhost:8080/"
        },
        "outputId": "5ffdce18-daea-49a0-a0d4-bdbccd59a7c5"
      },
      "outputs": [
        {
          "output_type": "execute_result",
          "data": {
            "text/plain": [
              "32.44832518659025"
            ]
          },
          "metadata": {},
          "execution_count": 14
        }
      ],
      "source": [
        "# TODO \n",
        "regr = linear_model.LinearRegression()\n",
        "regr.fit(Xtr,ytr)\n",
        "yhat_tr = regr.predict(Xtr)\n",
        "loss = np.sum((yhat_tr - ytr)**2)/len(ytr)\n",
        "loss"
      ]
    },
    {
      "cell_type": "markdown",
      "metadata": {
        "id": "IGcEO0ggFStz"
      },
      "source": [
        "Create a scatter plot of the actual vs. predicted values of `y` on the **training** data."
      ]
    },
    {
      "cell_type": "code",
      "execution_count": null,
      "metadata": {
        "id": "-r__jPyk-Em-",
        "colab": {
          "base_uri": "https://localhost:8080/",
          "height": 638
        },
        "outputId": "7bc03b9f-23e2-41a4-fc1c-08ddc8cfe819"
      },
      "outputs": [
        {
          "output_type": "execute_result",
          "data": {
            "text/plain": [
              "[<matplotlib.lines.Line2D at 0x7f40c1973700>]"
            ]
          },
          "metadata": {},
          "execution_count": 15
        },
        {
          "output_type": "display_data",
          "data": {
            "text/plain": [
              "<Figure size 720x720 with 1 Axes>"
            ],
            "image/png": "[encoded data removed]"
          },
          "metadata": {
            "needs_background": "light"
          }
        }
      ],
      "source": [
        "# TODO\n",
        "x_line = np.linspace(-5,50,100)\n",
        "y_line = x_line\n",
        "\n",
        "\n",
        "plt.figure(1,figsize=(10,10))\n",
        "plt.ylabel('Predicted Y')\n",
        "plt.xlabel('Actual Y')\n",
        "plt.title('Actual vs Predicted Y')\n",
        "plt.scatter(ytr,yhat_tr,s=20)\n",
        "plt.grid()\n",
        "plt.plot(x_line,y_line,'r',label='x=y line')"
      ]
    },
    {
      "cell_type": "markdown",
      "metadata": {
        "id": "1HCzNYlm-UxT"
      },
      "source": [
        "Compute the predicted values `yhat_ts` on the test data and print the average square loss value on the **test** data."
      ]
    },
    {
      "cell_type": "code",
      "execution_count": null,
      "metadata": {
        "id": "mUKr8Dx2-UxU",
        "colab": {
          "base_uri": "https://localhost:8080/"
        },
        "outputId": "d12fb097-56e8-41f1-8dff-e8d88f713d06"
      },
      "outputs": [
        {
          "output_type": "execute_result",
          "data": {
            "text/plain": [
              "23.655038348910892"
            ]
          },
          "metadata": {},
          "execution_count": 16
        }
      ],
      "source": [
        "# TODO \n",
        "regr = linear_model.LinearRegression()\n",
        "regr.fit(Xts,yts)\n",
        "yhat_ts = regr.predict(Xts)\n",
        "loss = np.sum((yhat_ts - yts)**2)/len(yts)\n",
        "loss"
      ]
    },
    {
      "cell_type": "markdown",
      "metadata": {
        "id": "W7i50wvq-CWO"
      },
      "source": [
        "Create a scatter plot of the actual vs. predicted values of `y` on the **test** data."
      ]
    },
    {
      "cell_type": "code",
      "execution_count": null,
      "metadata": {
        "id": "q8dnwG94FStz",
        "colab": {
          "base_uri": "https://localhost:8080/",
          "height": 638
        },
        "outputId": "8665492c-19cb-448f-c200-ecd67fab8971"
      },
      "outputs": [
        {
          "output_type": "execute_result",
          "data": {
            "text/plain": [
              "[<matplotlib.lines.Line2D at 0x7f40c18e4a60>]"
            ]
          },
          "metadata": {},
          "execution_count": 17
        },
        {
          "output_type": "display_data",
          "data": {
            "text/plain": [
              "<Figure size 720x720 with 1 Axes>"
            ],
            "image/png": "[encoded data removed]"
          },
          "metadata": {
            "needs_background": "light"
          }
        }
      ],
      "source": [
        "# TODO\n",
        "x_line = np.linspace(-5,50,100)\n",
        "y_line = x_line\n",
        "\n",
        "\n",
        "plt.figure(1,figsize=(10,10))\n",
        "plt.ylabel('Predicted Y')\n",
        "plt.xlabel('Actual Y')\n",
        "plt.title('Actual vs Predicted Y')\n",
        "plt.scatter(yts,yhat_ts,s=20)\n",
        "plt.grid()\n",
        "plt.plot(x_line,y_line,'r',label='x=y line')"
      ]
    },
    {
      "cell_type": "markdown",
      "metadata": {
        "id": "B75oOA9NCMwg"
      },
      "source": [
        "### **Gradient descent for linear regression [2 points]**\n",
        "Finally, we will implement the gradient descent version of linear regression.\n",
        "\n"
      ]
    },
    {
      "cell_type": "markdown",
      "metadata": {
        "id": "RxYlKzLIxf98"
      },
      "source": [
        "In particular, the function implemented should follow the following format:\n",
        "```python\n",
        "def linear_regression_gd(X,y,learning_rate = 0.00001,max_iter=10000,tol=pow(10,-5)):\n",
        "```\n",
        "where `X` is the same data matrix used above (with ones column appended), `y` is the variable to be predicted, `learning_rate` is the learning rate used ($\\alpha$ or $\\rho_t$ in the slides), `max_iter` defines the maximum number of iterations that gradient descent is allowed to run, and `tol` is defining the tolerance for convergence (which we'll discuss next).\n",
        "\n",
        "The return values for the above function should be (at the least) 1) `w` which are the regression parameters, 2) `all_cost` which is an array where each position contains the value of the objective function $L(\\mathbf{w})$ for a given iteration, 3) `iters` which counts how many iterations did the algorithm need in order to converge to a solution.\n",
        "\n",
        "Gradient descent is an iterative algorithm; it keeps updating the variables until a convergence criterion is met. In our case, our convergence criterion is whichever of the following two criteria happens first:\n",
        "\n",
        "- The maximum number of iterations is met\n",
        "- The relative improvement in the cost is not greater than the tolerance we have specified. For this criterion, you may use the following snippet into your code:\n",
        "```python\n",
        "np.absolute(all_cost[it] - all_cost[it-1])/all_cost[it-1] <= tol\n",
        "```"
      ]
    },
    {
      "cell_type": "code",
      "execution_count": null,
      "metadata": {
        "id": "rI3bPa4CY7XW"
      },
      "outputs": [],
      "source": [
        "# TODO \n",
        "# Implement gradient descent for linear regression \n",
        "\n",
        "def compute_cost(X,w,y):\n",
        "    L = (np.linalg.norm(y-(X@w),2))**2\n",
        "    return L\n",
        "\n",
        "def compute_gradient(X,w,y):\n",
        "    L = np.matmul(X.T,(np.matmul(X, w) - y))\n",
        "    return L\n",
        "\n",
        "def linear_regression_gd(X,y,learning_rate = 0.00001,max_iter=10000,tol=pow(10,-5)):\n",
        "    \n",
        "    iters = 0\n",
        "    all_cost = []\n",
        "    w = np.zeros(X[0].shape[0])\n",
        "    \n",
        "    for epoch in range(max_iter):\n",
        "        \n",
        "        grad = compute_gradient(X,w,y)\n",
        "        cost = compute_cost(X,w,y)\n",
        "        all_cost.append(cost)\n",
        "        w = w - learning_rate*grad\n",
        "        \n",
        "        iters += 1\n",
        "    \n",
        "        check_err = np.absolute((all_cost[epoch] - all_cost[epoch-1])/all_cost[epoch-1])\n",
        "        if epoch > 1 and check_err <= tol:\n",
        "            print ('break by tolerence', check_err)\n",
        "            print ('iter', iters)\n",
        "            break\n",
        "    \n",
        "    \n",
        "    return w, all_cost, iters"
      ]
    },
    {
      "cell_type": "markdown",
      "metadata": {
        "id": "dN2e6tsuY8Nq"
      },
      "source": [
        "### **Convergence plots [2 points]**\n",
        "After implementing gradient descent for linear regression, we would like to test that indeed our algorithm converges to a solution. In order see this, we are going to look at the value of the objective/loss function $L(\\mathbf{w})$ as a function of the number of iterations, and ideally, what we would like to see is $L(\\mathbf{w})$ drops as we run more iterations, and eventually it stabilizes. \n",
        "\n",
        "The learning rate plays a big role in how fast our algorithm converges: a larger learning rate means that the algorithm is making faster strides to the solution, whereas a smaller learning rate implies slower steps. In this question we are going to test two different values for the learning rate:\n",
        "- 0.00001\n",
        "- 0.000001\n",
        "\n",
        "while keeping the default values for the max number of iterations and the tolerance.\n",
        "\n",
        "\n",
        "- Plot the two convergence plots (cost(loss) vs. iterations)\n",
        "\n",
        "- What do you observe?\n",
        "\n"
      ]
    },
    {
      "cell_type": "code",
      "execution_count": null,
      "metadata": {
        "id": "1vbaLoa7ZB_8",
        "colab": {
          "base_uri": "https://localhost:8080/",
          "height": 656
        },
        "outputId": "c55e903f-8576-443b-9a83-a376da424195"
      },
      "outputs": [
        {
          "output_type": "stream",
          "name": "stdout",
          "text": [
            "break by tolerence 9.638602038760893e-07\n",
            "iter 175\n"
          ]
        },
        {
          "output_type": "display_data",
          "data": {
            "text/plain": [
              "<Figure size 720x720 with 1 Axes>"
            ],
            "image/png": "[encoded data removed]"
          },
          "metadata": {
            "needs_background": "light"
          }
        }
      ],
      "source": [
        "# TODO \n",
        "# test gradient descent with step size 0.00001\n",
        "# test gradient descent with step size 0.000001\n",
        "fig = plt.figure(0, figsize=(10,10))\n",
        "\n",
        "(w1, all_cost1,iters1) = linear_regression_gd(Xtr,ytr,learning_rate = 0.00001,max_iter = 1000, tol=pow(10,-6))  \n",
        "green, = plt.plot([i for i in range(iters1)], [np.log(i) for i in all_cost1[0:iters1]], 'green')\n",
        "  \n",
        "\n",
        "(w2, all_cost2,iters2) = linear_regression_gd(Xtr,ytr,learning_rate = 0.000001,max_iter = 1000, tol=pow(10,-6))  \n",
        "red, = plt.plot([i for i in range(iters2)],[np.log(i) for i in all_cost2[0:iters2]],'red')\n",
        "\n",
        "plt.legend([green, red], ['Step1 - 10^-5', 'Step2 - 10^-6'])\n",
        "plt.xlabel('number of Iterations')\n",
        "plt.ylabel('log of Training loss')\n",
        "plt.title('Loss function convergence. Log(Trainin loss) vs num_iters')\n",
        "plt.grid()\n",
        "plt.show()"
      ]
    },
    {
      "cell_type": "markdown",
      "metadata": {
        "id": "KRU51zCtZAtP"
      },
      "source": [
        "Observations: \n",
        "\n",
        "1. The Gradient Descent(GD) with lower step size, red in this case, takes more iterations to come to same result than GD with larger step size, Green in this case.\n",
        "2. Red has still not converged and is limited by number of iterations whilst green is limited by our tolerance value."
      ]
    },
    {
      "cell_type": "markdown",
      "metadata": {
        "id": "_7FVGGI_aqre"
      },
      "source": [
        "# **Question 2. Logistic Regression [8 points]**\n",
        "\n",
        "In this question, we will plot the logistic function and perform logistic regression. We will use the breast cancer data set.  This data set is described here: https://archive.ics.uci.edu/ml/machine-learning-databases/breast-cancer-wisconsin.\n",
        "\n",
        "Each sample is a collection of features that were manually recorded by a physician upon inspecting a sample of cells from fine needle aspiration.  The goal is to detect if the cells are benign or malignant.  \n",
        "\n",
        "We could use the `sklearn` built-in `LogisticRegression` class to find the weights for the logistic regression problem.  The `fit` routine in that class has an *optimizer* to select the weights to best match the data.  To understand how that optimizer works, in this problem, we will build a very simple gradient descent optimizer from scratch.  "
      ]
    },
    {
      "cell_type": "markdown",
      "metadata": {
        "id": "EHaz8CZBfUVr"
      },
      "source": [
        "### Loading and visualizing the Breast Cancer Data\n",
        "\n",
        "We load the data from the UCI site and remove the missing values."
      ]
    },
    {
      "cell_type": "code",
      "execution_count": null,
      "metadata": {
        "id": "4RdmLqolffmw",
        "colab": {
          "base_uri": "https://localhost:8080/",
          "height": 238
        },
        "outputId": "e532acbf-21c2-4721-9a21-89ba03e6a141"
      },
      "outputs": [
        {
          "output_type": "execute_result",
          "data": {
            "text/plain": [
              "        id  thick  size_unif  shape_unif  marg  cell_size  bare  chrom  \\\n",
              "0  1000025      5          1           1     1          2   1.0      3   \n",
              "1  1002945      5          4           4     5          7  10.0      3   \n",
              "2  1015425      3          1           1     1          2   2.0      3   \n",
              "3  1016277      6          8           8     1          3   4.0      3   \n",
              "4  1017023      4          1           1     3          2   1.0      3   \n",
              "5  1017122      8         10          10     8          7  10.0      9   \n",
              "\n",
              "   normal  mit  class  \n",
              "0       1    1      2  \n",
              "1       2    1      2  \n",
              "2       1    1      2  \n",
              "3       7    1      2  \n",
              "4       1    1      2  \n",
              "5       7    1      4  "
            ],
            "text/html": [
              "\n",
              "  <div id=\"df-0921def6-9119-4686-8d0c-15ccfea63531\">\n",
              "    <div class=\"colab-df-container\">\n",
              "      <div>\n",
              "<style scoped>\n",
              "    .dataframe tbody tr th:only-of-type {\n",
              "        vertical-align: middle;\n",
              "    }\n",
              "\n",
              "    .dataframe tbody tr th {\n",
              "        vertical-align: top;\n",
              "    }\n",
              "\n",
              "    .dataframe thead th {\n",
              "        text-align: right;\n",
              "    }\n",
              "</style>\n",
              "<table border=\"1\" class=\"dataframe\">\n",
              "  <thead>\n",
              "    <tr style=\"text-align: right;\">\n",
              "      <th></th>\n",
              "      <th>id</th>\n",
              "      <th>thick</th>\n",
              "      <th>size_unif</th>\n",
              "      <th>shape_unif</th>\n",
              "      <th>marg</th>\n",
              "      <th>cell_size</th>\n",
              "      <th>bare</th>\n",
              "      <th>chrom</th>\n",
              "      <th>normal</th>\n",
              "      <th>mit</th>\n",
              "      <th>class</th>\n",
              "    </tr>\n",
              "  </thead>\n",
              "  <tbody>\n",
              "    <tr>\n",
              "      <th>0</th>\n",
              "      <td>1000025</td>\n",
              "      <td>5</td>\n",
              "      <td>1</td>\n",
              "      <td>1</td>\n",
              "      <td>1</td>\n",
              "      <td>2</td>\n",
              "      <td>1.0</td>\n",
              "      <td>3</td>\n",
              "      <td>1</td>\n",
              "      <td>1</td>\n",
              "      <td>2</td>\n",
              "    </tr>\n",
              "    <tr>\n",
              "      <th>1</th>\n",
              "      <td>1002945</td>\n",
              "      <td>5</td>\n",
              "      <td>4</td>\n",
              "      <td>4</td>\n",
              "      <td>5</td>\n",
              "      <td>7</td>\n",
              "      <td>10.0</td>\n",
              "      <td>3</td>\n",
              "      <td>2</td>\n",
              "      <td>1</td>\n",
              "      <td>2</td>\n",
              "    </tr>\n",
              "    <tr>\n",
              "      <th>2</th>\n",
              "      <td>1015425</td>\n",
              "      <td>3</td>\n",
              "      <td>1</td>\n",
              "      <td>1</td>\n",
              "      <td>1</td>\n",
              "      <td>2</td>\n",
              "      <td>2.0</td>\n",
              "      <td>3</td>\n",
              "      <td>1</td>\n",
              "      <td>1</td>\n",
              "      <td>2</td>\n",
              "    </tr>\n",
              "    <tr>\n",
              "      <th>3</th>\n",
              "      <td>1016277</td>\n",
              "      <td>6</td>\n",
              "      <td>8</td>\n",
              "      <td>8</td>\n",
              "      <td>1</td>\n",
              "      <td>3</td>\n",
              "      <td>4.0</td>\n",
              "      <td>3</td>\n",
              "      <td>7</td>\n",
              "      <td>1</td>\n",
              "      <td>2</td>\n",
              "    </tr>\n",
              "    <tr>\n",
              "      <th>4</th>\n",
              "      <td>1017023</td>\n",
              "      <td>4</td>\n",
              "      <td>1</td>\n",
              "      <td>1</td>\n",
              "      <td>3</td>\n",
              "      <td>2</td>\n",
              "      <td>1.0</td>\n",
              "      <td>3</td>\n",
              "      <td>1</td>\n",
              "      <td>1</td>\n",
              "      <td>2</td>\n",
              "    </tr>\n",
              "    <tr>\n",
              "      <th>5</th>\n",
              "      <td>1017122</td>\n",
              "      <td>8</td>\n",
              "      <td>10</td>\n",
              "      <td>10</td>\n",
              "      <td>8</td>\n",
              "      <td>7</td>\n",
              "      <td>10.0</td>\n",
              "      <td>9</td>\n",
              "      <td>7</td>\n",
              "      <td>1</td>\n",
              "      <td>4</td>\n",
              "    </tr>\n",
              "  </tbody>\n",
              "</table>\n",
              "</div>\n",
              "      <button class=\"colab-df-convert\" onclick=\"convertToInteractive('df-0921def6-9119-4686-8d0c-15ccfea63531')\"\n",
              "              title=\"Convert this dataframe to an interactive table.\"\n",
              "              style=\"display:none;\">\n",
              "        \n",
              "  <svg xmlns=\"http://www.w3.org/2000/svg\" height=\"24px\"viewBox=\"0 0 24 24\"\n",
              "       width=\"24px\">\n",
              "    <path d=\"M0 0h24v24H0V0z\" fill=\"none\"/>\n",
              "    <path d=\"M18.56 5.44l.94 2.06.94-2.06 2.06-.94-2.06-.94-.94-2.06-.94 2.06-2.06.94zm-11 1L8.5 8.5l.94-2.06 2.06-.94-2.06-.94L8.5 2.5l-.94 2.06-2.06.94zm10 10l.94 2.06.94-2.06 2.06-.94-2.06-.94-.94-2.06-.94 2.06-2.06.94z\"/><path d=\"M17.41 7.96l-1.37-1.37c-.4-.4-.92-.59-1.43-.59-.52 0-1.04.2-1.43.59L10.3 9.45l-7.72 7.72c-.78.78-.78 2.05 0 2.83L4 21.41c.39.39.9.59 1.41.59.51 0 1.02-.2 1.41-.59l7.78-7.78 2.81-2.81c.8-.78.8-2.07 0-2.86zM5.41 20L4 18.59l7.72-7.72 1.47 1.35L5.41 20z\"/>\n",
              "  </svg>\n",
              "      </button>\n",
              "      \n",
              "  <style>\n",
              "    .colab-df-container {\n",
              "      display:flex;\n",
              "      flex-wrap:wrap;\n",
              "      gap: 12px;\n",
              "    }\n",
              "\n",
              "    .colab-df-convert {\n",
              "      background-color: #E8F0FE;\n",
              "      border: none;\n",
              "      border-radius: 50%;\n",
              "      cursor: pointer;\n",
              "      display: none;\n",
              "      fill: #1967D2;\n",
              "      height: 32px;\n",
              "      padding: 0 0 0 0;\n",
              "      width: 32px;\n",
              "    }\n",
              "\n",
              "    .colab-df-convert:hover {\n",
              "      background-color: #E2EBFA;\n",
              "      box-shadow: 0px 1px 2px rgba(60, 64, 67, 0.3), 0px 1px 3px 1px rgba(60, 64, 67, 0.15);\n",
              "      fill: #174EA6;\n",
              "    }\n",
              "\n",
              "    [theme=dark] .colab-df-convert {\n",
              "      background-color: #3B4455;\n",
              "      fill: #D2E3FC;\n",
              "    }\n",
              "\n",
              "    [theme=dark] .colab-df-convert:hover {\n",
              "      background-color: #434B5C;\n",
              "      box-shadow: 0px 1px 3px 1px rgba(0, 0, 0, 0.15);\n",
              "      filter: drop-shadow(0px 1px 2px rgba(0, 0, 0, 0.3));\n",
              "      fill: #FFFFFF;\n",
              "    }\n",
              "  </style>\n",
              "\n",
              "      <script>\n",
              "        const buttonEl =\n",
              "          document.querySelector('#df-0921def6-9119-4686-8d0c-15ccfea63531 button.colab-df-convert');\n",
              "        buttonEl.style.display =\n",
              "          google.colab.kernel.accessAllowed ? 'block' : 'none';\n",
              "\n",
              "        async function convertToInteractive(key) {\n",
              "          const element = document.querySelector('#df-0921def6-9119-4686-8d0c-15ccfea63531');\n",
              "          const dataTable =\n",
              "            await google.colab.kernel.invokeFunction('convertToInteractive',\n",
              "                                                     [key], {});\n",
              "          if (!dataTable) return;\n",
              "\n",
              "          const docLinkHtml = 'Like what you see? Visit the ' +\n",
              "            '<a target=\"_blank\" href=https://colab.research.google.com/notebooks/data_table.ipynb>data table notebook</a>'\n",
              "            + ' to learn more about interactive tables.';\n",
              "          element.innerHTML = '';\n",
              "          dataTable['output_type'] = 'display_data';\n",
              "          await google.colab.output.renderOutput(dataTable, element);\n",
              "          const docLink = document.createElement('div');\n",
              "          docLink.innerHTML = docLinkHtml;\n",
              "          element.appendChild(docLink);\n",
              "        }\n",
              "      </script>\n",
              "    </div>\n",
              "  </div>\n",
              "  "
            ]
          },
          "metadata": {},
          "execution_count": 20
        }
      ],
      "source": [
        "names = ['id','thick','size_unif','shape_unif','marg','cell_size','bare',\n",
        "         'chrom','normal','mit','class']\n",
        "df = pd.read_csv('https://archive.ics.uci.edu/ml/machine-learning-databases/' +\n",
        "                 'breast-cancer-wisconsin/breast-cancer-wisconsin.data',\n",
        "                names=names,na_values='?',header=None)\n",
        "df = df.dropna()\n",
        "df.head(6)"
      ]
    },
    {
      "cell_type": "markdown",
      "metadata": {
        "id": "3EEPMsFmfpqS"
      },
      "source": [
        "After loading the data, we can create a scatter plot of the data labeling the class values with different colors.  We will pick two of the features.  "
      ]
    },
    {
      "cell_type": "code",
      "execution_count": null,
      "metadata": {
        "id": "rXSf9mKtfwbF",
        "colab": {
          "base_uri": "https://localhost:8080/",
          "height": 307
        },
        "outputId": "5ae6e534-2b17-4b1a-ef1d-a3320ad683dd"
      },
      "outputs": [
        {
          "output_type": "execute_result",
          "data": {
            "text/plain": [
              "<matplotlib.legend.Legend at 0x7f40beddd2b0>"
            ]
          },
          "metadata": {},
          "execution_count": 21
        },
        {
          "output_type": "display_data",
          "data": {
            "text/plain": [
              "<Figure size 432x288 with 1 Axes>"
            ],
            "image/png": "[encoded data removed]"
          },
          "metadata": {
            "needs_background": "light"
          }
        }
      ],
      "source": [
        "# Get the response.  Convert to a zero-one indicator \n",
        "yraw = np.array(df['class'])\n",
        "BEN_VAL = 2   # value in the 'class' label for benign samples\n",
        "MAL_VAL = 4   # value in the 'class' label for malignant samples\n",
        "y = (yraw == MAL_VAL).astype(int)\n",
        "Iben = (y==0)\n",
        "Imal = (y==1)\n",
        "\n",
        "# Get two predictors\n",
        "xnames =['size_unif','marg'] \n",
        "X = np.array(df[xnames])\n",
        "\n",
        "# Create the scatter plot\n",
        "plt.plot(X[Imal,0],X[Imal,1],'r.')\n",
        "plt.plot(X[Iben,0],X[Iben,1],'g.')\n",
        "plt.xlabel(xnames[0], fontsize=16)\n",
        "plt.ylabel(xnames[1], fontsize=16)\n",
        "plt.ylim(0,14)\n",
        "plt.legend(['malign','benign'],loc='upper right')"
      ]
    },
    {
      "cell_type": "markdown",
      "metadata": {
        "id": "UY5fLe90gCnU"
      },
      "source": [
        "The above plot is not informative, since many of the points are on top of one another.  Thus, we cannot see the relative frequency of points.  "
      ]
    },
    {
      "cell_type": "markdown",
      "metadata": {
        "id": "kyhRv_1hhOj3"
      },
      "source": [
        "We see that $\\sigma(wx+b)$ represents the probability that $y=1$.  The function $\\sigma(wx) > 0.5$ for $x>0$ meaning the samples are more likely to be $y=1$.  Similarly, for $x<0$, the samples are more likely to be $y=0$.  The scaling $w$ determines how fast that transition is and $b$ influences the transition point.  "
      ]
    },
    {
      "cell_type": "markdown",
      "metadata": {
        "id": "Dr2_5WR2cY9p"
      },
      "source": [
        "### **Fitting the Logistic Model on Two  Variables**\n",
        "\n",
        "We will fit the logistic model on the two variables `size_unif` and `marg`."
      ]
    },
    {
      "cell_type": "code",
      "execution_count": null,
      "metadata": {
        "id": "WQPUSMlTcY9q",
        "colab": {
          "base_uri": "https://localhost:8080/"
        },
        "outputId": "ab5864f8-bc28-4419-9875-e754fdce0728"
      },
      "outputs": [
        {
          "output_type": "stream",
          "name": "stdout",
          "text": [
            "(683, 2)\n"
          ]
        }
      ],
      "source": [
        "# load data \n",
        "xnames =['size_unif','marg'] \n",
        "X = np.array(df[xnames])\n",
        "print(X.shape)"
      ]
    },
    {
      "cell_type": "markdown",
      "metadata": {
        "id": "zvgB0iCCcY9q"
      },
      "source": [
        "Next we split the data into training and test. Use 30% for test and 70% for training.  You can do the splitting manually or use the `sklearn` package `train_test_split`.   Store the training data in `Xtr,ytr` and test data in `Xts,yts`."
      ]
    },
    {
      "cell_type": "code",
      "execution_count": null,
      "metadata": {
        "id": "2oC7pomCcY9q"
      },
      "outputs": [],
      "source": [
        "# TODO\n",
        "from sklearn.model_selection import train_test_split\n",
        "Xtr, Xts, ytr, yts = train_test_split(X,y, test_size=0.30)"
      ]
    },
    {
      "cell_type": "markdown",
      "metadata": {
        "id": "Qr4ru1WYcY9v"
      },
      "source": [
        "**Logistic regression in scikit-learn**\n",
        "\n",
        "The actual fitting is easy with the `sklearn` package.  The parameter `C` \n",
        "states the level of inverse regularization strength with higher values meaning less regularization. Right now, we will select a high value to minimally regularize the estimate.\n",
        "\n",
        "We can also measure the accuracy on the test data. You should get an accuracy around 90%. "
      ]
    },
    {
      "cell_type": "code",
      "execution_count": null,
      "metadata": {
        "id": "lKGhsUYfzUx3",
        "colab": {
          "base_uri": "https://localhost:8080/"
        },
        "outputId": "06643c98-7ffa-40ca-a5a1-4219e4767825"
      },
      "outputs": [
        {
          "output_type": "stream",
          "name": "stdout",
          "text": [
            "[[1.34726285 0.35664997]]\n",
            "[-5.40716062]\n",
            "Accuracy on test data = 0.960976\n"
          ]
        }
      ],
      "source": [
        "from sklearn import datasets, linear_model, preprocessing\n",
        "reg = linear_model.LogisticRegression(C=1e5)\n",
        "reg.fit(Xtr, ytr)\n",
        "\n",
        "print(reg.coef_)\n",
        "print(reg.intercept_)\n",
        "\n",
        "yhat = reg.predict(Xts)\n",
        "acc = np.mean(yhat == yts)\n",
        "print(\"Accuracy on test data = %f\" % acc)"
      ]
    },
    {
      "cell_type": "markdown",
      "metadata": {
        "id": "dOhsTYG6zXDk"
      },
      "source": [
        "**Instead of taking this approach, we will implement the regression function using gradient descent.**"
      ]
    },
    {
      "cell_type": "markdown",
      "metadata": {
        "id": "KCTbi1wTcbIn"
      },
      "source": [
        "### **Gradient descent for logistic regression [4 points]**\n",
        "The weight vector can be found by minimizing the negative log likelihood over $N$ training samples.  The negative log likelihood is called the *loss* function.  For the logistic regression problem, the loss function simplifies to\n",
        "\n",
        "$$L(\\mathbf{w}) = - \\sum_{i=1}^N y_i \\log \\sigma(\\mathbf{w}^T\\mathbf{x}_i+b) + (1-y_i)\\log [1-\\sigma(\\mathbf{w}^T\\mathbf{x}_i+b)].$$\n",
        "\n",
        "Gradient can be computed as $$\\nabla_\\mathbf{w}L = \\sum_{i=1}^N(\\sigma(\\mathbf{w}^T\\mathbf{x}_i)-y_i)\\mathbf{x}_i ,~~~ \\nabla_b L = \\sum_{i=1}^N(\\sigma(\\mathbf{w}^T\\mathbf{x}_i)-y_i).$$\n",
        "\n",
        "\n",
        "We can update $\\mathbf{w},b$ at every iteration as  \n",
        "$$ \\mathbf{w} \\gets \\mathbf{w} - \\alpha \\nabla_\\mathbf{w}L, \\\\ b \\gets b - \\alpha \\nabla_b L.$$ \n",
        "\n",
        "**Note that we could also append the constant term in $\\mathbf{w}$ and append 1 to every $\\mathbf{x}_i$ accordingly, but we kept them separate in the expressions above.**\n",
        "\n",
        " "
      ]
    },
    {
      "cell_type": "markdown",
      "metadata": {
        "id": "QNa10nUiS5ru"
      },
      "source": [
        "**Gradient descent function implementation** \n",
        "\n",
        "We will use this loss function and gradient to implement a gradient descent-based method for logistic regression.\n",
        "\n",
        "Recall that training a logistic function means finding a weight vector `w` for the classification rule:\n",
        "$$P(y=1|x,w) = \\frac{1}{1+e^{-z}}, z = w[0]+w[1]\\cdot x[1] + \\cdots + w[d]\\cdot x[d]$$\n",
        "    \n",
        "    \n",
        "The function implemented should follow the following format:\n",
        "```python\n",
        "def logistic_regression_gd(X,y,learning_rate = 0.001,max_iter=1000,tol=pow(10,-5)):\n",
        "```\n",
        "Where `X` is the training data feature(s), `y` is the variable to be predicted, `learning_rate` is the learning rate used ($\\alpha$ in the slides), `max_iter` defines the maximum number of iterations that gradient descent is allowed to run, and `tol` is defining the tolerance for convergence (which we'll discuss next).\n",
        "\n",
        "The return values for the above function should be (at the least):\n",
        "\n",
        "1. `w` which are the regression parameters, \n",
        "\n",
        "2. `all_cost` which is an array where each position contains the value of the objective function $L(\\mathbf{w})$ for a given iteration, \n",
        "\n",
        "3. `iters` which counts how many iterations did the algorithm need in order to converge to a solution.\n",
        "\n",
        "Gradient descent is an iterative algorithm; it keeps updating the variables until a convergence criterion is met. In our case, our convergence criterion is whichever of the following two criteria happens first:\n",
        "\n",
        "- The maximum number of iterations is met\n",
        "- The relative improvement in the cost is not greater than the tolerance we have specified. For this criterion, you may use the following snippet into your code:\n",
        "```python\n",
        "np.absolute(all_cost[it] - all_cost[it-1])/all_cost[it-1] <= tol\n",
        "```"
      ]
    },
    {
      "cell_type": "code",
      "execution_count": null,
      "metadata": {
        "id": "SRDxzsZk8ck_"
      },
      "outputs": [],
      "source": [
        "# TODO \n",
        "# Your code for logistic regression via gradient descent goes here \n",
        "def sigmoid(x):\n",
        "    return 1/(1 + np.exp(-x))\n",
        "\n",
        "def compute_cost(X,w,b,y):\n",
        "\n",
        "    L = 0\n",
        "    for xi,yi in zip(X,y):\n",
        "        hyp = w.T@xi + b\n",
        "        one_pred = sigmoid(hyp)\n",
        "        one_log = np.log(one_pred)\n",
        "        \n",
        "        zero_pred = 1 - sigmoid(hyp)\n",
        "        zero_log = np.log(zero_pred)\n",
        "        l = (yi*one_log) + ((1-yi)*zero_log)\n",
        "        L += l\n",
        "\n",
        "    return -L\n",
        "\n",
        "def logistic_regression_gd(X,y,learning_rate = 0.00001,max_iter=1000,tol=pow(10,-5)):\n",
        "\n",
        "    w = np.zeros(X[0].shape[0])\n",
        "    b = 0\n",
        "    iters = 0\n",
        "    all_cost = []\n",
        "    cost = compute_cost(X,w,b,y)\n",
        "    all_cost.append(cost)\n",
        "\n",
        "    for epoch in range(max_iter):\n",
        "\n",
        "        w_now = np.zeros(X[0].shape[0])\n",
        "        b_now = 0\n",
        "\n",
        "        for xi,yi in zip(X,y):\n",
        "            hyp = w.T@xi + b\n",
        "            pred = sigmoid(hyp)\n",
        "            err = pred - yi\n",
        "            w_now += err*xi\n",
        "            b_now += err\n",
        "        \n",
        "        w -= learning_rate*w_now\n",
        "        b -= learning_rate*b_now\n",
        "\n",
        "        iters += 1\n",
        "        cost = compute_cost(X,w,b,y)\n",
        "        all_cost.append(cost)\n",
        "\n",
        "        if epoch > 1 and np.absolute(all_cost[epoch] - all_cost[epoch-1])/all_cost[epoch-1] <= tol:\n",
        "            print ('break by tolerance', iters)\n",
        "            break\n",
        "\n",
        "    return w, b, all_cost, iters"
      ]
    },
    {
      "cell_type": "markdown",
      "metadata": {
        "id": "08r6_M-98clK"
      },
      "source": [
        "### **Convergence plots and test accuracy [4 points]**\n",
        "\n",
        "After implementing gradient descent for logistic regression, we would like to test that indeed our algorithm converges to a solution. In order see this, we are going to look at the value of the objective/loss function $L(\\mathbf{w})$ as a function of the number of iterations, and ideally, what we would like to see is $L(\\mathbf{w})$ drops as we run more iterations, and eventually it stabilizes. \n",
        "\n",
        "The learning rate plays a big role in how fast our algorithm converges: a larger learning rate means that the algorithm is making faster strides to the solution, whereas a smaller learning rate implies slower steps. In this question we are going to test two different values for the learning rate:\n",
        "- 0.001\n",
        "- 0.00001\n",
        "\n",
        "while keeping the default values for the max number of iterations and the tolerance.\n",
        "\n",
        "\n",
        "- Plot the two convergence plots (cost vs. iterations)\n",
        "- Calculate the accuracy of classifier on the test data `Xts` \n",
        "- What do you observe? \n"
      ]
    },
    {
      "cell_type": "markdown",
      "metadata": {
        "id": "2XWJPz_uU1zT"
      },
      "source": [
        "**Calculate accuracy of your classifier on test data**\n",
        "\n",
        "To calculate the accuracy of our classifier on the test data, we can create a predict method. \n",
        "\n",
        "Implement a function `predict(X,w)` that provides you label 1 if $\\mathbf{w}^T\\mathbf{x} + b > 0$ and 0 otherwise.  "
      ]
    },
    {
      "cell_type": "code",
      "execution_count": null,
      "metadata": {
        "id": "uFyHcnVFVD4r"
      },
      "outputs": [],
      "source": [
        "# TODO \n",
        "# Predict on test samples and measure accuracy\n",
        "def predict(X,w, b):\n",
        "    preds = []\n",
        "    for xi in X:\n",
        "        grad = w.T@xi+b\n",
        "        preds.append(grad)\n",
        "\n",
        "    yhat = [1 if y > 0 else 0 for y in preds]\n",
        "    return yhat"
      ]
    },
    {
      "cell_type": "code",
      "execution_count": null,
      "metadata": {
        "id": "P7KAVMGV8clL",
        "colab": {
          "base_uri": "https://localhost:8080/",
          "height": 331
        },
        "outputId": "268064ff-27df-4f09-a99d-266addfecc81"
      },
      "outputs": [
        {
          "output_type": "stream",
          "name": "stdout",
          "text": [
            "break by tolerance 816\n",
            "Test accuracy1 = 0.960976\n",
            "Test accuracy2 = 0.941463\n"
          ]
        },
        {
          "output_type": "display_data",
          "data": {
            "text/plain": [
              "<Figure size 432x288 with 1 Axes>"
            ],
            "image/png": "[encoded data removed]"
          },
          "metadata": {
            "needs_background": "light"
          }
        }
      ],
      "source": [
        "# TODO \n",
        "# test gradient descent with step size 0.001\n",
        "# test gradient descent with step size 0.00001\n",
        " \n",
        "(w1, b1,all_cost1,iters1) = logistic_regression_gd(Xtr,ytr,learning_rate = 0.001,max_iter = 1000, tol=pow(10,-6))  \n",
        "green, = plt.plot([i for i in range(iters1)], [np.log(i) for i in all_cost1[0:iters1]], 'green')\n",
        "yhat1 = predict(Xts,w1,b1)\n",
        "acc1 = np.mean(yhat1 == yts)\n",
        "print(\"Test accuracy1 = %f\" % acc1)\n",
        "\n",
        "(w2, b2, all_cost2, iters2) = logistic_regression_gd(Xtr,ytr,learning_rate = 0.00001,max_iter = 1000, tol=pow(10,-6))  \n",
        "red, = plt.plot([i for i in range(iters2)],[np.log(i) for i in all_cost2[0:iters2]],'red')\n",
        "yhat2 = predict(Xts,w2,b2)\n",
        "acc2 = np.mean(yhat2 == yts)\n",
        "print(\"Test accuracy2 = %f\" % acc2)\n",
        "\n",
        "plt.legend([green, red], ['Step1 - 10^-3', 'Step2 - 10^-5'])\n",
        "plt.xlabel('number of Iterations')\n",
        "plt.ylabel('log of Training loss')\n",
        "plt.grid()\n",
        "plt.show()"
      ]
    },
    {
      "cell_type": "markdown",
      "metadata": {
        "id": "Zu5HpI_-8clL"
      },
      "source": [
        "Observations: \n",
        "\n",
        "1. The implementation with lower step size (red), has not yet converged while the green seems to have converged and reached the defined tolerence.\n",
        "2. As red has not converged, it will have lower accuracy than green."
      ]
    }
  ],
  "metadata": {
    "colab": {
      "provenance": []
    },
    "kernelspec": {
      "display_name": "Python 3 (ipykernel)",
      "language": "python",
      "name": "python3"
    },
    "language_info": {
      "codemirror_mode": {
        "name": "ipython",
        "version": 3
      },
      "file_extension": ".py",
      "mimetype": "text/x-python",
      "name": "python",
      "nbconvert_exporter": "python",
      "pygments_lexer": "ipython3",
      "version": "3.8.16"
    }
  },
  "nbformat": 4,
  "nbformat_minor": 0
}